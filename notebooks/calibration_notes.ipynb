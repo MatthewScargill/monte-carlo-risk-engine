{
 "cells": [
  {
   "cell_type": "markdown",
   "id": "71adbbba",
   "metadata": {},
   "source": [
    "# This is where the notes on calibration live"
   ]
  },
  {
   "cell_type": "markdown",
   "id": "7ec3221b",
   "metadata": {},
   "source": [
    "here are the dependencies "
   ]
  },
  {
   "cell_type": "code",
   "execution_count": 1,
   "id": "3b315984",
   "metadata": {},
   "outputs": [],
   "source": [
    "import numpy as np\n",
    "import pandas as pd"
   ]
  },
  {
   "cell_type": "markdown",
   "id": "1fc9cb39",
   "metadata": {},
   "source": [
    "we need to move to returns for the following reasons\n",
    "we do this with the following function"
   ]
  },
  {
   "cell_type": "code",
   "execution_count": 2,
   "id": "4cb91e96",
   "metadata": {},
   "outputs": [],
   "source": [
    "def to_returns(prices, method=\"log\", dropna=True): # dropna to remove nan returns ( if diff(0))\n",
    "    \"\"\"\n",
    "    Convert prices (£) to returns (%).\n",
    "\n",
    "    - prices: DataFrame (wide) or Series of prices\n",
    "    - method: 'log' or 'simple' --- log set as default as \n",
    "        continuous symmetric and normally distributed (+ less bias that normal)\n",
    "        > required for MC \n",
    "    - dropna: drop the initial NaNs after differencing --- False preserves structure but True \n",
    "        makes for easier data to work with\n",
    "\n",
    "    Returns: DataFrame of returns\n",
    "    \"\"\"\n",
    "    if isinstance(prices, pd.Series):\n",
    "        prices = prices.to_frame()\n",
    "\n",
    "    if method == \"log\": # set as default as continuous symmetric and normally distributed (+ less bias that normal) -> required for MC\n",
    "        rets = np.log(prices).diff()\n",
    "    elif method == \"simple\": \n",
    "        rets = prices.pct_change()\n",
    "    else:\n",
    "        raise ValueError(\"method must be 'log' or 'simple'\") \n",
    "\n",
    "    return rets.dropna(how=\"all\") if dropna else rets "
   ]
  },
  {
   "cell_type": "markdown",
   "id": "faca86ec",
   "metadata": {},
   "source": [
    "this should probably have an example of an output"
   ]
  },
  {
   "cell_type": "markdown",
   "id": "26b02741",
   "metadata": {},
   "source": [
    "while we obviously could use normal covariance, this is clunkyh in the real world so we use the following "
   ]
  },
  {
   "cell_type": "code",
   "execution_count": 3,
   "id": "ad169578",
   "metadata": {},
   "outputs": [],
   "source": [
    "def ewma_cov(returns, lam=0.94): \n",
    "    \"\"\"\n",
    "    Produce 'Exponentially Weighted Moving Average' (EMWA) covariance matrix.\n",
    "\n",
    "    Cov ≈ (1-λ) * Σ_{i=0}^{T-1} λ^i * (r_{t-i}-μ)(r_{t-i}-μ)^T\n",
    "    Idea: Put greater importance on newer events (eg. stops incoming crisis data being dampened by long stability phase)\n",
    "\n",
    "    - returns: DataFrame of returns (T x N)\n",
    "    - lam: decay parameter in (0,1). Higher = longer memory. \n",
    "        lam = 0.94 is industry standard for short terms - range up to 0.97.\n",
    "\n",
    "    Returns: N x N numpy array covariance.\n",
    "    \"\"\"\n",
    "    x = returns.values \n",
    "    T, N = x.shape # rows: T = number of days, columns: N = assets\n",
    "\n",
    "    mu = np.nanmean(x, axis=0, keepdims=True)  \n",
    "    xc = x - mu # remove the mean to isolate fluctuations                             \n",
    "\n",
    "    idx = np.arange(T-1, -1, -1)\n",
    "    w = (1 - lam) * (lam ** idx) # add weighting scheme - favours newer data\n",
    "    w = w / w.sum() # normalise!                           \n",
    "\n",
    "    Xw = xc * w[:, None] # weight scaling                      \n",
    "    cov = (Xw.T @ xc)                          \n",
    "\n",
    "    return cov\n"
   ]
  },
  {
   "cell_type": "markdown",
   "id": "5d49611d",
   "metadata": {},
   "source": [
    "we can see the difference it makes in this scenario (this should be a sudden increase or collapse scenario)\n",
    "we need an explanation what the box is going to show"
   ]
  },
  {
   "cell_type": "code",
   "execution_count": 4,
   "id": "e9434120",
   "metadata": {},
   "outputs": [],
   "source": [
    "# this is where we have the cell and perhaps even a graph of the csv data "
   ]
  },
  {
   "cell_type": "markdown",
   "id": "4c7dbe60",
   "metadata": {},
   "source": [
    "this is the big huge function that uses all of this as well as a simple shrinkage for numerical accuracy "
   ]
  },
  {
   "cell_type": "code",
   "execution_count": 5,
   "id": "ea502892",
   "metadata": {},
   "outputs": [],
   "source": [
    "# here we have the big bad callable \n",
    "def estimate_mean_cov(returns, cov_method=\"standard\", lam=0.94, shrinkage_alpha=None, ddof=1):\n",
    "    \"\"\"\n",
    "    Estimate mean vector and covariance matrix.\n",
    "    \n",
    "    returns: DataFrame of returns (T x N)\n",
    "    cov_method: 'standard' (sample covariance) or 'ewma' (Exponentially Weighted Moving Average covariance)\n",
    "    lam: EWMA decay λ if cov_method='ewma'\n",
    "    shrinkage_alpha: optional diagonal shrinkage α in [0,1]\n",
    "    ddof: degrees of freedom for sample covariance (default 1)\n",
    "\n",
    "    Returns: (mu, Sigma) where\n",
    "        mu    : pd.Series of mean returns by asset\n",
    "        Sigma : pd.DataFrame covariance matrix (assets x assets)\n",
    "    \"\"\"\n",
    "    rets = returns.dropna(how=\"any\")\n",
    "    assets = rets.columns \n",
    "\n",
    "    # finding the mean\n",
    "    mu = rets.mean()\n",
    "\n",
    "    # picking a covariance method + error \n",
    "    if cov_method == \"standard\":\n",
    "        Sigma = rets.cov(ddof=ddof)\n",
    "    elif cov_method == \"ewma\":\n",
    "        cov = ewma_cov(rets, lam=lam)\n",
    "        Sigma = pd.DataFrame(cov, index=assets, columns=assets)\n",
    "    else:\n",
    "        raise ValueError(\"cov_method must be 'standard' or 'ewma'\")\n",
    "\n",
    "    if shrinkage_alpha is not None: # apply the shrinkage if that's your jam\n",
    "        shrunk = diagonal_shrinkage(Sigma.values, shrinkage_alpha)\n",
    "        Sigma = pd.DataFrame(shrunk, index=assets, columns=assets)\n",
    "\n",
    "    return mu, Sigma\n"
   ]
  },
  {
   "cell_type": "markdown",
   "id": "b53aaeeb",
   "metadata": {},
   "source": [
    "now we have scalable data type thats easy to work with and have used to to produce optimised statistical variables for our simulations "
   ]
  }
 ],
 "metadata": {
  "kernelspec": {
   "display_name": ".venv",
   "language": "python",
   "name": "python3"
  },
  "language_info": {
   "codemirror_mode": {
    "name": "ipython",
    "version": 3
   },
   "file_extension": ".py",
   "mimetype": "text/x-python",
   "name": "python",
   "nbconvert_exporter": "python",
   "pygments_lexer": "ipython3",
   "version": "3.12.3"
  }
 },
 "nbformat": 4,
 "nbformat_minor": 5
}
