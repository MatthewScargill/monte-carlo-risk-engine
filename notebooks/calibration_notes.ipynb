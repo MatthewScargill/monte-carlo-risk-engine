{
 "cells": [
  {
   "cell_type": "markdown",
   "id": "71adbbba",
   "metadata": {},
   "source": [
    "# This is where the notes on calibration live"
   ]
  }
 ],
 "metadata": {
  "language_info": {
   "name": "python"
  }
 },
 "nbformat": 4,
 "nbformat_minor": 5
}
