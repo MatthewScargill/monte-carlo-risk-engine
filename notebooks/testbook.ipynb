{
 "cells": [
  {
   "cell_type": "markdown",
   "id": "5b304100",
   "metadata": {},
   "source": [
    "# this is where i can test jupiter notebook\n",
    "\n",
    "the plan is to have a notebook for each file in /src explaining the importance of each function? either way this is where i can write some more finance theory stuff instead of the maths in the code"
   ]
  },
  {
   "cell_type": "code",
   "execution_count": 4,
   "id": "3201238f",
   "metadata": {},
   "outputs": [
    {
     "name": "stdout",
     "output_type": "stream",
     "text": [
      "is this code working\n"
     ]
    }
   ],
   "source": [
    "print(\"is this code working\")"
   ]
  },
  {
   "cell_type": "code",
   "execution_count": null,
   "id": "1b0c4881",
   "metadata": {},
   "outputs": [],
   "source": []
  }
 ],
 "metadata": {
  "kernelspec": {
   "display_name": ".venv",
   "language": "python",
   "name": "python3"
  },
  "language_info": {
   "codemirror_mode": {
    "name": "ipython",
    "version": 3
   },
   "file_extension": ".py",
   "mimetype": "text/x-python",
   "name": "python",
   "nbconvert_exporter": "python",
   "pygments_lexer": "ipython3",
   "version": "3.12.3"
  }
 },
 "nbformat": 4,
 "nbformat_minor": 5
}
