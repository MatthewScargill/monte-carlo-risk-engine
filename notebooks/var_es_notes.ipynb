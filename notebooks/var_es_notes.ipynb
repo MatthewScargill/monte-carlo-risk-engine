{
 "cells": [
  {
   "cell_type": "markdown",
   "id": "e6ad2b17",
   "metadata": {},
   "source": [
    "# this is where the Var Es code gets notes and explanations"
   ]
  }
 ],
 "metadata": {
  "language_info": {
   "name": "python"
  }
 },
 "nbformat": 4,
 "nbformat_minor": 5
}
